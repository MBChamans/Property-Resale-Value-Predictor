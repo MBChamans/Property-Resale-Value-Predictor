{
 "cells": [
  {
   "cell_type": "code",
   "execution_count": 52,
   "metadata": {},
   "outputs": [],
   "source": [
    "from flask import Flask,request, url_for, redirect, render_template\n",
    "import pickle\n",
    "import numpy as np\n",
    "import pandas"
   ]
  },
  {
   "cell_type": "code",
   "execution_count": 53,
   "metadata": {},
   "outputs": [],
   "source": [
    "app=Flask(__name__)\n",
    "loc = pandas.read_excel('Mumbai_2.xls')\n",
    "dict = loc.to_dict('records')"
   ]
  },
  {
   "cell_type": "code",
   "execution_count": 54,
   "metadata": {},
   "outputs": [],
   "source": [
    "modelLR=pickle.load(open('modelLR.pkl','rb'))\n",
    "modelKNN=pickle.load(open('modelKNN.pkl','rb'))\n",
    "modelDT=pickle.load(open('modelDT.pkl','rb'))"
   ]
  },
  {
   "cell_type": "code",
   "execution_count": 55,
   "metadata": {},
   "outputs": [
    {
     "name": "stdout",
     "output_type": "stream",
     "text": [
      " * Serving Flask app \"__main__\" (lazy loading)\n",
      " * Environment: production\n",
      "   WARNING: This is a development server. Do not use it in a production deployment.\n",
      "   Use a production WSGI server instead.\n",
      " * Debug mode: off\n"
     ]
    },
    {
     "name": "stderr",
     "output_type": "stream",
     "text": [
      " * Running on http://127.0.0.1:5000/ (Press CTRL+C to quit)\n",
      "127.0.0.1 - - [18/Apr/2021 18:30:30] \"\u001b[37mGET / HTTP/1.1\u001b[0m\" 200 -\n",
      "127.0.0.1 - - [18/Apr/2021 18:30:38] \"\u001b[37mGET / HTTP/1.1\u001b[0m\" 200 -\n",
      "127.0.0.1 - - [18/Apr/2021 18:30:39] \"\u001b[37mGET /static/l.png HTTP/1.1\u001b[0m\" 200 -\n",
      "[2021-04-18 18:30:48,628] ERROR in app: Exception on /predict [GET]\n",
      "Traceback (most recent call last):\n",
      "  File \"C:\\Users\\kulka\\anaconda3\\lib\\site-packages\\flask\\app.py\", line 2446, in wsgi_app\n",
      "    response = self.full_dispatch_request()\n",
      "  File \"C:\\Users\\kulka\\anaconda3\\lib\\site-packages\\flask\\app.py\", line 1951, in full_dispatch_request\n",
      "    rv = self.handle_user_exception(e)\n",
      "  File \"C:\\Users\\kulka\\anaconda3\\lib\\site-packages\\flask\\app.py\", line 1820, in handle_user_exception\n",
      "    reraise(exc_type, exc_value, tb)\n",
      "  File \"C:\\Users\\kulka\\anaconda3\\lib\\site-packages\\flask\\_compat.py\", line 39, in reraise\n",
      "    raise value\n",
      "  File \"C:\\Users\\kulka\\anaconda3\\lib\\site-packages\\flask\\app.py\", line 1949, in full_dispatch_request\n",
      "    rv = self.dispatch_request()\n",
      "  File \"C:\\Users\\kulka\\anaconda3\\lib\\site-packages\\flask\\app.py\", line 1935, in dispatch_request\n",
      "    return self.view_functions[rule.endpoint](**req.view_args)\n",
      "  File \"<ipython-input-55-94976054f179>\", line 10, in predict\n",
      "    carparea=int(request.form.get(\"area\"))\n",
      "TypeError: int() argument must be a string, a bytes-like object or a number, not 'NoneType'\n",
      "127.0.0.1 - - [18/Apr/2021 18:30:48] \"\u001b[35m\u001b[1mGET /predict HTTP/1.1\u001b[0m\" 500 -\n"
     ]
    }
   ],
   "source": [
    "@app.route('/')\n",
    "def hello_world():\n",
    "    return render_template(\"index.html\")\n",
    "\n",
    "@app.route('/predict',methods=['POST','GET'])\n",
    "def predict():\n",
    "    a=[]\n",
    "    locality=request.form.get(\"local\")\n",
    "#     a.append(locality)\n",
    "    carparea=int(request.form.get(\"area\"))\n",
    "#     a.append(carparea)\n",
    "    bed=int(request.form.get(\"noofbedr\"))\n",
    "#     a.append(bed)\n",
    "    parking=int(request.form.get(\"park\"))\n",
    "#     a.append(parking)\n",
    "    gym=int(request.form.get(\"gym\"))\n",
    "#     a.append(gym)\n",
    "    pool=int(request.form.get(\"swimpool\"))\n",
    "#     a.append(pool)\n",
    "    lift=int(request.form.get(\"lift\"))\n",
    "#     a.append(lift)\n",
    "    resale=int(request.form.get(\"resale\"))\n",
    "#     a.append(resale)\n",
    "    for i in range (len(dict)):\n",
    "        if(dict[i]['Location']==locality):\n",
    "            locid=dict[i]['Location ID']\n",
    "            appa=dict[i]['Avg_Price_Area']\n",
    "    final=[np.array([carparea,appa,locid,bed,resale,gym,lift,parking,pool])]\n",
    "    prediction1=modelLR.predict(final)\n",
    "    prediction2=modelKNN.predict(final)\n",
    "    prediction3=modelDT.predict(final)\n",
    "    output = prediction1*0.1 + prediction2*0.3 + prediction3*0.6\n",
    "    predict=\"{:,}\".format(int(output[0][0]))\n",
    "    return render_template('index.html',pred=predict)\n",
    " \n",
    "if __name__ == '__main__':\n",
    "    app.run()"
   ]
  },
  {
   "cell_type": "code",
   "execution_count": null,
   "metadata": {},
   "outputs": [],
   "source": []
  },
  {
   "cell_type": "code",
   "execution_count": 6,
   "metadata": {},
   "outputs": [],
   "source": []
  },
  {
   "cell_type": "code",
   "execution_count": null,
   "metadata": {},
   "outputs": [],
   "source": []
  }
 ],
 "metadata": {
  "kernelspec": {
   "display_name": "Python 3",
   "language": "python",
   "name": "python3"
  },
  "language_info": {
   "codemirror_mode": {
    "name": "ipython",
    "version": 3
   },
   "file_extension": ".py",
   "mimetype": "text/x-python",
   "name": "python",
   "nbconvert_exporter": "python",
   "pygments_lexer": "ipython3",
   "version": "3.7.6"
  }
 },
 "nbformat": 4,
 "nbformat_minor": 4
}
